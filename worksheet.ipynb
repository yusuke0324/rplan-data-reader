{
 "cells": [
  {
   "cell_type": "code",
   "execution_count": 6,
   "id": "2a6da649-f7bd-45dc-b6f8-9aa523db34f8",
   "metadata": {},
   "outputs": [
    {
     "name": "stdout",
     "output_type": "stream",
     "text": [
      "The autoreload extension is already loaded. To reload it, use:\n",
      "  %reload_ext autoreload\n"
     ]
    }
   ],
   "source": [
    "%load_ext autoreload\n",
    "%autoreload 2\n",
    "import os\n",
    "from read_dd import read_data\n",
    "line = os.path.join('image', '0.png')\n",
    "room_type,poly,doors_, walls,out=read_data(line)"
   ]
  },
  {
   "cell_type": "code",
   "execution_count": 7,
   "id": "bb214ca5-54b9-4984-9545-470ac5ed0b5b",
   "metadata": {},
   "outputs": [
    {
     "data": {
      "text/plain": [
       "[3, 4, 1, 3, 2, 5, 17, 17, 17, 17, 17, 15]"
      ]
     },
     "execution_count": 7,
     "metadata": {},
     "output_type": "execute_result"
    }
   ],
   "source": [
    "# 6部屋 + 5ドア + 1エントランス\n",
    "room_type"
   ]
  },
  {
   "cell_type": "code",
   "execution_count": 8,
   "id": "f057d7d2-4e76-462c-a83e-8d63d9444bc6",
   "metadata": {},
   "outputs": [
    {
     "data": {
      "text/plain": [
       "[4, 4, 12, 4, 4, 4, 4, 4, 4, 4, 4, 4]"
      ]
     },
     "execution_count": 8,
     "metadata": {},
     "output_type": "execute_result"
    }
   ],
   "source": [
    "poly"
   ]
  },
  {
   "cell_type": "code",
   "execution_count": 9,
   "id": "3348efa6-c46a-4489-9ce1-6b2041a15b8d",
   "metadata": {},
   "outputs": [
    {
     "data": {
      "text/plain": [
       "[[108.0, 145.0, 108.0, 155.0],\n",
       " [108.0, 155.0, 110.0, 155.0],\n",
       " [110.0, 155.0, 110.0, 145.0],\n",
       " [110.0, 145.0, 108.0, 145.0],\n",
       " [114.0, 158.0, 114.0, 160.0],\n",
       " [114.0, 160.0, 125.0, 160.0],\n",
       " [125.0, 160.0, 125.0, 158.0],\n",
       " [125.0, 158.0, 114.0, 158.0],\n",
       " [114.0, 127.0, 114.0, 129.0],\n",
       " [114.0, 129.0, 124.0, 129.0],\n",
       " [124.0, 129.0, 124.0, 127.0],\n",
       " [124.0, 127.0, 114.0, 127.0],\n",
       " [145.0, 60.0, 145.0, 84.0],\n",
       " [145.0, 84.0, 147.0, 84.0],\n",
       " [147.0, 84.0, 147.0, 60.0],\n",
       " [147.0, 60.0, 145.0, 60.0],\n",
       " [134.0, 204.0, 134.0, 206.0],\n",
       " [134.0, 206.0, 178.0, 206.0],\n",
       " [178.0, 206.0, 178.0, 204.0],\n",
       " [178.0, 204.0, 134.0, 204.0],\n",
       " [165.0, 38.0, 165.0, 52.0],\n",
       " [165.0, 52.0, 167.0, 52.0],\n",
       " [167.0, 52.0, 167.0, 38.0],\n",
       " [167.0, 38.0, 165.0, 38.0]]"
      ]
     },
     "execution_count": 9,
     "metadata": {},
     "output_type": "execute_result"
    }
   ],
   "source": [
    "# ドアの位置を表す座標[始点X, 始点Y, 終点X, 終点Y]のリスト\n",
    "doors_"
   ]
  },
  {
   "cell_type": "code",
   "execution_count": 38,
   "id": "4dd27644-634b-4e52-b82e-94a5685f0ff4",
   "metadata": {},
   "outputs": [
    {
     "data": {
      "text/plain": [
       "[[72.0, 161.0, 72.0, 220.0, -1, 3, 0, -1, 0],\n",
       " [72.0, 220.0, 124.0, 220.0, -1, 3, 0, -1, 0],\n",
       " [124.0, 220.0, 124.0, 161.0, -1, 3, 0, -1, 0],\n",
       " [124.0, 161.0, 72.0, 161.0, -1, 3, 0, -1, 0],\n",
       " [72.0, 130.0, 72.0, 157.0, -1, 4, 1, -1, 0]]"
      ]
     },
     "execution_count": 38,
     "metadata": {},
     "output_type": "execute_result"
    }
   ],
   "source": [
    "# [始点X, 始点Y, 終点X, 終点Y, -1, 部屋タイプID, 部屋のindex, -1, 0]\n",
    "walls[:5]"
   ]
  },
  {
   "cell_type": "code",
   "execution_count": 16,
   "id": "8617723f-13db-4231-875d-de01c2047913",
   "metadata": {},
   "outputs": [
    {
     "data": {
      "text/plain": [
       "<matplotlib.image.AxesImage at 0xffff607caa00>"
      ]
     },
     "execution_count": 16,
     "metadata": {},
     "output_type": "execute_result"
    },
    {
     "data": {
      "image/png": "[encoded data removed]",
      "text/plain": [
       "<Figure size 640x480 with 1 Axes>"
      ]
     },
     "metadata": {},
     "output_type": "display_data"
    }
   ],
   "source": [
    "import matplotlib.pyplot as plt\n",
    "import numpy as np\n",
    "from PIL import Image\n",
    "img = np.asarray(Image.open(line))\n",
    "plt.imshow(img[:, :, 1])"
   ]
  },
  {
   "cell_type": "code",
   "execution_count": 17,
   "id": "1896b519-7908-441c-909e-17c9d394a1cd",
   "metadata": {},
   "outputs": [
    {
     "data": {
      "text/plain": [
       "<matplotlib.image.AxesImage at 0xffff607b7b20>"
      ]
     },
     "execution_count": 17,
     "metadata": {},
     "output_type": "execute_result"
    },
    {
     "data": {
      "image/png": "[encoded data removed]",
      "text/plain": [
       "<Figure size 640x480 with 1 Axes>"
      ]
     },
     "metadata": {},
     "output_type": "display_data"
    }
   ],
   "source": [
    "# type=3はどれ？\n",
    "plt.imshow(img[:, :, 1]==3)"
   ]
  },
  {
   "cell_type": "code",
   "execution_count": 36,
   "id": "17dd7d45-1b52-41c2-83dd-5db4b9e189c0",
   "metadata": {},
   "outputs": [
    {
     "data": {
      "text/plain": [
       "[[72.0, 130.0, 72.0, 157.0, -1, 4, 1, -1, 0],\n",
       " [72.0, 157.0, 107.0, 157.0, -1, 4, 1, -1, 0],\n",
       " [107.0, 157.0, 107.0, 130.0, -1, 4, 1, -1, 0],\n",
       " [107.0, 130.0, 72.0, 130.0, -1, 4, 1, -1, 0]]"
      ]
     },
     "execution_count": 36,
     "metadata": {},
     "output_type": "execute_result"
    }
   ],
   "source": [
    "# 種別が3のものを見るには(3は4に変換されていることに注意．house gan では種別を独自に再定義している read_dd.pyの#156)\n",
    "walls_4 = [wall for wall in walls if wall[5] == 4]\n",
    "walls_4"
   ]
  },
  {
   "cell_type": "code",
   "execution_count": 39,
   "id": "ee42e730-0b73-4049-a235-72c14e37909d",
   "metadata": {},
   "outputs": [
    {
     "data": {
      "text/plain": [
       "1"
      ]
     },
     "execution_count": 39,
     "metadata": {},
     "output_type": "execute_result"
    }
   ],
   "source": [
    "out"
   ]
  },
  {
   "cell_type": "code",
   "execution_count": 41,
   "id": "c672d3c0-890d-44c0-8203-c381cb8e4410",
   "metadata": {},
   "outputs": [],
   "source": [
    "import json\n",
    "with open('sample_output/0.json', 'r') as file:\n",
    "    data = json.load(file)"
   ]
  },
  {
   "cell_type": "code",
   "execution_count": 43,
   "id": "6c438334-33be-4d9c-b587-da5416af4296",
   "metadata": {},
   "outputs": [
    {
     "data": {
      "text/plain": [
       "[3, 4, 1, 3, 2, 5, 17, 17, 17, 17, 17, 15]"
      ]
     },
     "execution_count": 43,
     "metadata": {},
     "output_type": "execute_result"
    }
   ],
   "source": [
    "data['room_type']"
   ]
  },
  {
   "cell_type": "code",
   "execution_count": 44,
   "id": "0a38304b-670f-4bdc-816b-72080ae9638e",
   "metadata": {},
   "outputs": [
    {
     "data": {
      "text/plain": [
       "[[72.0, 161.0, 124.0, 220.0],\n",
       " [72.0, 130.0, 107.0, 157.0],\n",
       " [111.0, 28.0, 184.0, 203.0],\n",
       " [72.0, 87.0, 124.0, 126.0],\n",
       " [115.0, 53.0, 144.0, 83.0],\n",
       " [128.0, 207.0, 184.0, 228.0],\n",
       " [108.0, 145.0, 110.0, 155.0],\n",
       " [114.0, 158.0, 125.0, 160.0],\n",
       " [114.0, 127.0, 124.0, 129.0],\n",
       " [145.0, 60.0, 147.0, 84.0],\n",
       " [134.0, 204.0, 178.0, 206.0],\n",
       " [165.0, 38.0, 167.0, 52.0]]"
      ]
     },
     "execution_count": 44,
     "metadata": {},
     "output_type": "execute_result"
    }
   ],
   "source": [
    "data['boxes'] # 左上と右下のxy それぞれの部屋分(ドア，エントランス含む)"
   ]
  },
  {
   "cell_type": "code",
   "execution_count": 74,
   "id": "7bf27905-e794-4792-a3ca-12572f010f40",
   "metadata": {},
   "outputs": [
    {
     "data": {
      "text/plain": [
       "[[72.0, 161.0, 72.0, 220.0, 3, 0],\n",
       " [72.0, 220.0, 124.0, 220.0, 3, 0],\n",
       " [124.0, 220.0, 124.0, 161.0, 3, 0],\n",
       " [124.0, 161.0, 72.0, 161.0, 3, 1],\n",
       " [72.0, 130.0, 72.0, 157.0, 4, 0],\n",
       " [72.0, 157.0, 107.0, 157.0, 4, 0],\n",
       " [107.0, 157.0, 107.0, 130.0, 4, 1],\n",
       " [107.0, 130.0, 72.0, 130.0, 4, 0],\n",
       " [148.0, 28.0, 148.0, 87.0, 1, 2],\n",
       " [148.0, 87.0, 128.0, 87.0, 1, 0]]"
      ]
     },
     "execution_count": 74,
     "metadata": {},
     "output_type": "execute_result"
    }
   ],
   "source": [
    "# [始点X座標, 始点Y座標, 終点X座標, 終点Y座標, 部屋タイプID, 接続がある隣接の部屋のタイプ]\n",
    "data['edges'][:10]\n",
    "# 最後の要素が0なのは，外側との隣接？"
   ]
  },
  {
   "cell_type": "code",
   "execution_count": 77,
   "id": "a8997c85-f0ff-4f82-b107-1f4483c18379",
   "metadata": {},
   "outputs": [
    {
     "data": {
      "text/plain": [
       "[[108.0, 145.0, 108.0, 155.0, 17, 4],\n",
       " [108.0, 155.0, 110.0, 155.0, 17, 0],\n",
       " [110.0, 155.0, 110.0, 145.0, 17, 1],\n",
       " [110.0, 145.0, 108.0, 145.0, 17, 0],\n",
       " [114.0, 158.0, 114.0, 160.0, 17, 0],\n",
       " [114.0, 160.0, 125.0, 160.0, 17, 3],\n",
       " [125.0, 160.0, 125.0, 158.0, 17, 0],\n",
       " [125.0, 158.0, 114.0, 158.0, 17, 1],\n",
       " [114.0, 127.0, 114.0, 129.0, 17, 0],\n",
       " [114.0, 129.0, 124.0, 129.0, 17, 1],\n",
       " [124.0, 129.0, 124.0, 127.0, 17, 3],\n",
       " [124.0, 127.0, 114.0, 127.0, 17, 0],\n",
       " [145.0, 60.0, 145.0, 84.0, 17, 2],\n",
       " [145.0, 84.0, 147.0, 84.0, 17, 0],\n",
       " [147.0, 84.0, 147.0, 60.0, 17, 1],\n",
       " [147.0, 60.0, 145.0, 60.0, 17, 0],\n",
       " [134.0, 204.0, 134.0, 206.0, 17, 0],\n",
       " [134.0, 206.0, 178.0, 206.0, 17, 5],\n",
       " [178.0, 206.0, 178.0, 204.0, 17, 0],\n",
       " [178.0, 204.0, 134.0, 204.0, 17, 1]]"
      ]
     },
     "execution_count": 77,
     "metadata": {},
     "output_type": "execute_result"
    }
   ],
   "source": [
    "[edge for edge in data['edges'] if edge[-2] == 17]"
   ]
  },
  {
   "cell_type": "code",
   "execution_count": 70,
   "id": "0dc51fec-7289-4977-929f-bf6354936a69",
   "metadata": {},
   "outputs": [
    {
     "name": "stdout",
     "output_type": "stream",
     "text": [
      "3\n"
     ]
    },
    {
     "data": {
      "text/plain": [
       "<matplotlib.image.AxesImage at 0xffff39f3fee0>"
      ]
     },
     "execution_count": 70,
     "metadata": {},
     "output_type": "execute_result"
    },
    {
     "data": {
      "image/png": "[encoded data removed]",
      "text/plain": [
       "<Figure size 640x480 with 1 Axes>"
      ]
     },
     "metadata": {},
     "output_type": "display_data"
    }
   ],
   "source": [
    "# 例えばroom_type=4(元の画像では3)の右下-右上線分に隣接しているのはindex=1\n",
    "# room_typeの1番目([0])のタイプは3．3は元の画像のタイプ=1\n",
    "print(data['room_type'][0])\n",
    "plt.imshow(img[:, :, 2]==1)"
   ]
  },
  {
   "cell_type": "code",
   "execution_count": 92,
   "id": "144d89be-a726-4550-81e6-62b7af7731e7",
   "metadata": {},
   "outputs": [
    {
     "data": {
      "text/plain": [
       "[[148.0, 28.0, 148.0, 87.0, 1, 2],\n",
       " [148.0, 87.0, 128.0, 87.0, 1, 0],\n",
       " [128.0, 87.0, 128.0, 130.0, 1, 0],\n",
       " [128.0, 130.0, 111.0, 130.0, 1, 3],\n",
       " [111.0, 130.0, 111.0, 157.0, 1, 4],\n",
       " [111.0, 157.0, 128.0, 157.0, 1, 3],\n",
       " [128.0, 157.0, 128.0, 203.0, 1, 0],\n",
       " [128.0, 203.0, 184.0, 203.0, 1, 5],\n",
       " [184.0, 203.0, 184.0, 87.0, 1, 0],\n",
       " [184.0, 87.0, 164.0, 87.0, 1, 0],\n",
       " [164.0, 87.0, 164.0, 28.0, 1, 0],\n",
       " [164.0, 28.0, 148.0, 28.0, 1, 0]]"
      ]
     },
     "execution_count": 92,
     "metadata": {},
     "output_type": "execute_result"
    }
   ],
   "source": [
    "[edge for edge in data['edges'] if edge[4] == 1]"
   ]
  },
  {
   "cell_type": "code",
   "execution_count": 94,
   "id": "3fca3e98-9423-41d3-8101-fb499d901e56",
   "metadata": {},
   "outputs": [
    {
     "data": {
      "text/plain": [
       "<matplotlib.image.AxesImage at 0xffff39ae52b0>"
      ]
     },
     "execution_count": 94,
     "metadata": {},
     "output_type": "execute_result"
    },
    {
     "data": {
      "image/png": "[encoded data removed]",
      "text/plain": [
       "<Figure size 640x480 with 1 Axes>"
      ]
     },
     "metadata": {},
     "output_type": "display_data"
    }
   ],
   "source": [
    "plt.imshow(img[:, :, 2]==3)"
   ]
  },
  {
   "cell_type": "code",
   "execution_count": 96,
   "id": "f4f8cabf-be2e-41bd-a7c6-a8e9614124aa",
   "metadata": {},
   "outputs": [
    {
     "data": {
      "text/plain": [
       "[[0],\n",
       " [0],\n",
       " [0],\n",
       " [0, 2],\n",
       " [1],\n",
       " [1],\n",
       " [1, 2],\n",
       " [1],\n",
       " [2, 4],\n",
       " [2],\n",
       " [2],\n",
       " [2, 3],\n",
       " [2, 1],\n",
       " [2, 0],\n",
       " [2],\n",
       " [2, 5],\n",
       " [2],\n",
       " [2],\n",
       " [2],\n",
       " [2],\n",
       " [3],\n",
       " [3, 2],\n",
       " [3],\n",
       " [3],\n",
       " [4],\n",
       " [4],\n",
       " [4, 2],\n",
       " [4],\n",
       " [5],\n",
       " [5],\n",
       " [5],\n",
       " [5, 2],\n",
       " [6, 1],\n",
       " [6],\n",
       " [6, 2],\n",
       " [6],\n",
       " [7],\n",
       " [7, 0],\n",
       " [7],\n",
       " [7, 2],\n",
       " [8],\n",
       " [8, 2],\n",
       " [8, 3],\n",
       " [8],\n",
       " [9, 4],\n",
       " [9],\n",
       " [9, 2],\n",
       " [9],\n",
       " [10],\n",
       " [10, 5],\n",
       " [10],\n",
       " [10, 2],\n",
       " [11, 2],\n",
       " [11],\n",
       " [11],\n",
       " [11]]"
      ]
     },
     "execution_count": 96,
     "metadata": {},
     "output_type": "execute_result"
    }
   ],
   "source": [
    "# 各部屋のindexと，その壁から繋がる部屋のindexを表してる\n",
    "data['ed_rm']"
   ]
  },
  {
   "cell_type": "code",
   "execution_count": null,
   "id": "40531455-92e4-4093-8d52-91679c90d987",
   "metadata": {},
   "outputs": [],
   "source": []
  }
 ],
 "metadata": {
  "kernelspec": {
   "display_name": "Python 3 (ipykernel)",
   "language": "python",
   "name": "python3"
  },
  "language_info": {
   "codemirror_mode": {
    "name": "ipython",
    "version": 3
   },
   "file_extension": ".py",
   "mimetype": "text/x-python",
   "name": "python",
   "nbconvert_exporter": "python",
   "pygments_lexer": "ipython3",
   "version": "3.8.19"
  }
 },
 "nbformat": 4,
 "nbformat_minor": 5
}
